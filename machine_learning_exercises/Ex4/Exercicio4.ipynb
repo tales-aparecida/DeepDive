{
 "cells": [
  {
   "cell_type": "markdown",
   "metadata": {},
   "source": [
    "# 177312 - Tales Lelo da Aparecida"
   ]
  },
  {
   "cell_type": "markdown",
   "metadata": {},
   "source": [
    "Use os dados do arquivo *abalone*. Faça os pré-processamentos do exercício 3."
   ]
  },
  {
   "cell_type": "code",
   "execution_count": 1,
   "metadata": {},
   "outputs": [
    {
     "name": "stdout",
     "output_type": "stream",
     "text": [
      "Primeiras 5 linhas:\n",
      "        1      2      3      4      5      6      7      F      I      M  >13y\n",
      "0 -0.575 -0.432 -1.064 -0.642 -0.608 -0.726 -0.638 -0.675 -0.688  1.317     1\n",
      "1 -1.449 -1.440 -1.184 -1.230 -1.171 -1.205 -1.213 -0.675 -0.688  1.317     0\n",
      "2  0.050  0.122 -0.108 -0.309 -0.463 -0.357 -0.207  1.482 -0.688 -0.759     0\n",
      "3 -0.699 -0.432 -0.347 -0.638 -0.648 -0.608 -0.602 -0.675 -0.688  1.317     0\n",
      "4 -1.616 -1.541 -1.423 -1.272 -1.216 -1.287 -1.321 -0.675  1.453 -0.759     0\n"
     ]
    }
   ],
   "source": [
    "import math\n",
    "import pandas as pd\n",
    "from sklearn.preprocessing   import scale\n",
    "from sklearn.model_selection import StratifiedKFold, GridSearchCV\n",
    "from sklearn.neighbors       import KNeighborsClassifier\n",
    "from sklearn.decomposition   import PCA\n",
    "from sklearn.svm             import SVC\n",
    "from sklearn.neural_network  import MLPClassifier\n",
    "from sklearn.ensemble        import RandomForestClassifier, GradientBoostingClassifier\n",
    "\n",
    "# Carrega um DataFrame com os dados do arquivo\n",
    "df = pd.io.parsers.read_csv('abalone.csv', ',', header=None )\n",
    "\n",
    "# Converte a 1ª coluna para um dado numérico\n",
    "df = pd.get_dummies(df, columns=[0])\n",
    "\n",
    "# Cria um DataFrame com a versão categórica (1:x>13, 0:x<=13) da coluna 8\n",
    "greaterThan13y = df.apply(lambda row: int(row[8]>13), 1)\n",
    "# Remove-a\n",
    "del df[8]\n",
    "\n",
    "# Estandardiza os dados\n",
    "x = scale(df.values)\n",
    "y = greaterThan13y.values\n",
    "\n",
    "# Mostra as primeiras linhas de nossos dados, para um preview de como estão até então\n",
    "df = pd.DataFrame(data=x[:5], columns=['1','2','3','4','5','6','7','F','I','M'])\n",
    "df['>13y'] = greaterThan13y\n",
    "pd.options.display.float_format = '{:,.3f}'.format\n",
    "print(\"Primeiras 5 linhas:\\n\", df[:5])"
   ]
  },
  {
   "cell_type": "markdown",
   "metadata": {},
   "source": [
    "$\\qquad$Usando um *5-fold* externo para calcular a acurácia, e um *3-fold* interno para a escolha dos hiperparâmetros, determine qual algoritmo entre **kNN**, **SVM** com kernel RBF, **redes neurais**, **Random Forest**, e **Gradient Boosting Machine** tem a maior acurácia, considerando 3 dígitos de precisão.  \n",
    "$\\qquad$Você não precisa fazer os loops da validação cruzada explicitamente. Pode usar a função *GridSearchCV* do SKlearn."
   ]
  },
  {
   "cell_type": "code",
   "execution_count": 2,
   "metadata": {},
   "outputs": [],
   "source": [
    "# Retorna duas listas com os índices gerados pelo kfold estratificado\n",
    "def getStratifiedKFoldArrays(k, x, y):\n",
    "    indexes_pairs = list(StratifiedKFold(k).split(x, y))\n",
    "    train_indexes, test_indexes = [], []\n",
    "    for i in range(k):\n",
    "        train_indexes.append(indexes_pairs[i][0])\n",
    "        test_indexes.append(indexes_pairs[i][1])\n",
    "    return train_indexes, test_indexes\n",
    "\n",
    "# Gera os índices dos 5 folds (kfold estratificado)\n",
    "tr_5kf_idxs, ts_5kf_idxs = getStratifiedKFoldArrays(5, x, y)"
   ]
  },
  {
   "cell_type": "markdown",
   "metadata": {},
   "source": [
    "Para o **kNN**, faça um *PCA* que mantém 90% da variância. Busque os valores do *k* entre os valores $1, 5, 11, 15, 21, 25$."
   ]
  },
  {
   "cell_type": "code",
   "execution_count": 3,
   "metadata": {},
   "outputs": [
    {
     "name": "stdout",
     "output_type": "stream",
     "text": [
      "Teste do kNN\n",
      "10 dimensões reduzidas para 3 com o PCA.  Variâncias = [0.69274183 0.15198329 0.09115099]\n",
      "5 fold:\n"
     ]
    },
    {
     "name": "stderr",
     "output_type": "stream",
     "text": [
      "/home/tales/virtualenvs/ML/lib/python3.6/site-packages/sklearn/model_selection/_split.py:2053: FutureWarning: You should specify a value for 'cv' instead of relying on the default value. The default value will change from 3 to 5 in version 0.22.\n",
      "  warnings.warn(CV_WARNING, FutureWarning)\n"
     ]
    },
    {
     "name": "stdout",
     "output_type": "stream",
     "text": [
      "    K = 21; Acurácia = 0.880382775120\n"
     ]
    },
    {
     "name": "stderr",
     "output_type": "stream",
     "text": [
      "/home/tales/virtualenvs/ML/lib/python3.6/site-packages/sklearn/model_selection/_split.py:2053: FutureWarning: You should specify a value for 'cv' instead of relying on the default value. The default value will change from 3 to 5 in version 0.22.\n",
      "  warnings.warn(CV_WARNING, FutureWarning)\n"
     ]
    },
    {
     "name": "stdout",
     "output_type": "stream",
     "text": [
      "    K = 25; Acurácia = 0.882775119617\n"
     ]
    },
    {
     "name": "stderr",
     "output_type": "stream",
     "text": [
      "/home/tales/virtualenvs/ML/lib/python3.6/site-packages/sklearn/model_selection/_split.py:2053: FutureWarning: You should specify a value for 'cv' instead of relying on the default value. The default value will change from 3 to 5 in version 0.22.\n",
      "  warnings.warn(CV_WARNING, FutureWarning)\n"
     ]
    },
    {
     "name": "stdout",
     "output_type": "stream",
     "text": [
      "    K = 21; Acurácia = 0.882634730539\n"
     ]
    },
    {
     "name": "stderr",
     "output_type": "stream",
     "text": [
      "/home/tales/virtualenvs/ML/lib/python3.6/site-packages/sklearn/model_selection/_split.py:2053: FutureWarning: You should specify a value for 'cv' instead of relying on the default value. The default value will change from 3 to 5 in version 0.22.\n",
      "  warnings.warn(CV_WARNING, FutureWarning)\n"
     ]
    },
    {
     "name": "stdout",
     "output_type": "stream",
     "text": [
      "    K = 21; Acurácia = 0.881437125749\n"
     ]
    },
    {
     "name": "stderr",
     "output_type": "stream",
     "text": [
      "/home/tales/virtualenvs/ML/lib/python3.6/site-packages/sklearn/model_selection/_split.py:2053: FutureWarning: You should specify a value for 'cv' instead of relying on the default value. The default value will change from 3 to 5 in version 0.22.\n",
      "  warnings.warn(CV_WARNING, FutureWarning)\n"
     ]
    },
    {
     "name": "stdout",
     "output_type": "stream",
     "text": [
      "    K = 21; Acurácia = 0.882634730539\n",
      "Acurácia média do kNN: 0.882\n"
     ]
    }
   ],
   "source": [
    "# Conjunto de hiperparâmetros testados para otimização do kNN\n",
    "ks = [1, 5, 11, 15, 21, 25]\n",
    "\n",
    "# Definição do objeto PCA que busca manter variância de 90%\n",
    "pca = PCA(n_components=0.9)\n",
    "x_reduced = pca.fit_transform(x)\n",
    "\n",
    "print(\"Teste do kNN\")\n",
    "print(len(x[0]), \"dimensões reduzidas para\", pca.n_components_, \"com o PCA.  \" \\\n",
    "      \"Variâncias =\", pca.explained_variance_ratio_)\n",
    "\n",
    "print(\"5 fold:\")\n",
    "avg_knn_score = 0\n",
    "for tr_5kf_idx, ts_5kf_idx in zip(tr_5kf_idxs, ts_5kf_idxs):\n",
    "    # Define os subvetores x e y, para treino e teste (5-kfold)\n",
    "    x_5kf_tr, y_5kf_tr = x_reduced[tr_5kf_idx], y[tr_5kf_idx] # Treino\n",
    "    x_5kf_ts, y_5kf_ts = x_reduced[ts_5kf_idx], y[ts_5kf_idx] # Teste\n",
    "    \n",
    "    # Procura o melhor K com 3 folds (StratifiedKFold)\n",
    "    gscv = GridSearchCV(\n",
    "                KNeighborsClassifier(), \n",
    "                {'n_neighbors':ks}\n",
    "           ).fit(x_5kf_tr, y_5kf_tr)\n",
    "    \n",
    "    # Guarda a acurácia do kNN para o melhor k do fold atual\n",
    "    knn_score = gscv.score(x_5kf_ts, y_5kf_ts)\n",
    "    print('    K = {:d}; Acurácia = {:.12f}'.format(\n",
    "                gscv.best_params_[\"n_neighbors\"], \n",
    "                knn_score)\n",
    "         )\n",
    "    avg_knn_score += knn_score\n",
    "    \n",
    "avg_knn_score /= 5\n",
    "print(\"Acurácia média do kNN: {:.3f}\".format(avg_knn_score))"
   ]
  },
  {
   "cell_type": "markdown",
   "metadata": {},
   "source": [
    "Para o **SVM RBF** teste para $C = 2^{-5}, 2^{0}, 2^{5}\\: e\\: 2^{10}$ e $\\gamma = 2^{-15}, 2^{-10}, 2^{-5}, 2^{0}\\: e\\: 2^{5}$."
   ]
  },
  {
   "cell_type": "code",
   "execution_count": 4,
   "metadata": {},
   "outputs": [
    {
     "name": "stdout",
     "output_type": "stream",
     "text": [
      "Teste do SVM\n",
      "5 fold:\n"
     ]
    },
    {
     "name": "stderr",
     "output_type": "stream",
     "text": [
      "/home/tales/virtualenvs/ML/lib/python3.6/site-packages/sklearn/model_selection/_split.py:2053: FutureWarning: You should specify a value for 'cv' instead of relying on the default value. The default value will change from 3 to 5 in version 0.22.\n",
      "  warnings.warn(CV_WARNING, FutureWarning)\n"
     ]
    },
    {
     "name": "stdout",
     "output_type": "stream",
     "text": [
      "    C = 2^10, gamma = 2^-10; Acurácia = 0.898325358852\n"
     ]
    },
    {
     "name": "stderr",
     "output_type": "stream",
     "text": [
      "/home/tales/virtualenvs/ML/lib/python3.6/site-packages/sklearn/model_selection/_split.py:2053: FutureWarning: You should specify a value for 'cv' instead of relying on the default value. The default value will change from 3 to 5 in version 0.22.\n",
      "  warnings.warn(CV_WARNING, FutureWarning)\n"
     ]
    },
    {
     "name": "stdout",
     "output_type": "stream",
     "text": [
      "    C = 2^10, gamma = 2^-10; Acurácia = 0.885167464115\n"
     ]
    },
    {
     "name": "stderr",
     "output_type": "stream",
     "text": [
      "/home/tales/virtualenvs/ML/lib/python3.6/site-packages/sklearn/model_selection/_split.py:2053: FutureWarning: You should specify a value for 'cv' instead of relying on the default value. The default value will change from 3 to 5 in version 0.22.\n",
      "  warnings.warn(CV_WARNING, FutureWarning)\n"
     ]
    },
    {
     "name": "stdout",
     "output_type": "stream",
     "text": [
      "    C = 2^10, gamma = 2^-10; Acurácia = 0.898203592814\n"
     ]
    },
    {
     "name": "stderr",
     "output_type": "stream",
     "text": [
      "/home/tales/virtualenvs/ML/lib/python3.6/site-packages/sklearn/model_selection/_split.py:2053: FutureWarning: You should specify a value for 'cv' instead of relying on the default value. The default value will change from 3 to 5 in version 0.22.\n",
      "  warnings.warn(CV_WARNING, FutureWarning)\n"
     ]
    },
    {
     "name": "stdout",
     "output_type": "stream",
     "text": [
      "    C = 2^10, gamma = 2^-10; Acurácia = 0.893413173653\n"
     ]
    },
    {
     "name": "stderr",
     "output_type": "stream",
     "text": [
      "/home/tales/virtualenvs/ML/lib/python3.6/site-packages/sklearn/model_selection/_split.py:2053: FutureWarning: You should specify a value for 'cv' instead of relying on the default value. The default value will change from 3 to 5 in version 0.22.\n",
      "  warnings.warn(CV_WARNING, FutureWarning)\n"
     ]
    },
    {
     "name": "stdout",
     "output_type": "stream",
     "text": [
      "    C = 2^10, gamma = 2^-10; Acurácia = 0.885029940120\n",
      "Acurácia média do SVM: 0.892\n"
     ]
    }
   ],
   "source": [
    "# Conjunto de hiperparâmetros testados para otimização do SVM\n",
    "Cs = [2**-5, 2**1, 2**5, 2**10]\n",
    "gammas = [2**-15, 2**-10, 2**0, 2**5]\n",
    "\n",
    "print(\"Teste do SVM\")\n",
    "\n",
    "print(\"5 fold:\")\n",
    "avg_svm_score = 0\n",
    "for tr_5kf_idx, ts_5kf_idx in zip(tr_5kf_idxs, ts_5kf_idxs):\n",
    "    # Define os subvetores x e y, para treino e teste (5-kfold)\n",
    "    x_5kf_tr, y_5kf_tr = x[tr_5kf_idx], y[tr_5kf_idx] # Treino\n",
    "    x_5kf_ts, y_5kf_ts = x[ts_5kf_idx], y[ts_5kf_idx] # Teste\n",
    "    \n",
    "    # Procura o melhor C e gamma com 3 folds (kernel='rbf' por padrão)\n",
    "    gscv = GridSearchCV(\n",
    "                SVC(), \n",
    "                {'C':Cs, 'gamma':gammas}\n",
    "           ).fit(x_5kf_tr, y_5kf_tr)\n",
    "    \n",
    "    # Guarda a acurácia do SVC para o melhor C e gamma do fold atual\n",
    "    svm_score = gscv.score(x_5kf_ts, y_5kf_ts)\n",
    "    C = int(math.log(gscv.best_params_[\"C\"], 2))\n",
    "    gamma = int(math.log(gscv.best_params_[\"gamma\"], 2))\n",
    "    print('    C = 2^{:d}, gamma = 2^{:d}; Acurácia = {:.12f}'.format(\n",
    "                C, \n",
    "                gamma, \n",
    "                svm_score)\n",
    "         )\n",
    "    avg_svm_score += svm_score\n",
    "    \n",
    "avg_svm_score /= 5\n",
    "print(\"Acurácia média do SVM: {:.3f}\".format(avg_svm_score))"
   ]
  },
  {
   "cell_type": "markdown",
   "metadata": {},
   "source": [
    "Para a **rede neural**, teste com $3, 7, 10,\\: e\\: 20$ neurônios na camada escondida."
   ]
  },
  {
   "cell_type": "code",
   "execution_count": 5,
   "metadata": {},
   "outputs": [
    {
     "name": "stdout",
     "output_type": "stream",
     "text": [
      "Teste do RN\n",
      "5 fold:\n",
      "    #Neurônios =  7; Acurácia = 0.887559808612\n",
      "    #Neurônios =  7; Acurácia = 0.900717703349\n",
      "    #Neurônios =  3; Acurácia = 0.899401197605\n",
      "    #Neurônios = 10; Acurácia = 0.900598802395\n",
      "    #Neurônios =  7; Acurácia = 0.893413173653\n",
      "Acurácia média da Rede neural: 0.896\n"
     ]
    }
   ],
   "source": [
    "import warnings\n",
    "warnings.filterwarnings(\"ignore\")\n",
    "\n",
    "# Conjunto de hiperparâmetros testados para otimização da rede neural\n",
    "Ns = [(3,), (7,), (10,), (20,)]\n",
    "\n",
    "print(\"Teste do RN\")\n",
    "\n",
    "print(\"5 fold:\")\n",
    "avg_rn_score = 0\n",
    "for tr_5kf_idx, ts_5kf_idx in zip(tr_5kf_idxs, ts_5kf_idxs):\n",
    "    # Define os subvetores x e y, para treino e teste (5-kfold)\n",
    "    x_5kf_tr, y_5kf_tr = x[tr_5kf_idx], y[tr_5kf_idx] # Treino\n",
    "    x_5kf_ts, y_5kf_ts = x[ts_5kf_idx], y[ts_5kf_idx] # Teste\n",
    "    \n",
    "    # Procura o melhor número de neurônios folds (StratifiedKFold)\n",
    "    gscv = GridSearchCV(\n",
    "                MLPClassifier(), \n",
    "                {'hidden_layer_sizes':Ns}\n",
    "           ).fit(x_5kf_tr, y_5kf_tr)\n",
    "    \n",
    "    # Guarda a acurácia da Rede Neural para o melhor # neurônios do fold atual\n",
    "    rn_score = gscv.score(x_5kf_ts, y_5kf_ts)\n",
    "    print('    #Neurônios = {:2d}; Acurácia = {:.12f}'.format(\n",
    "                gscv.best_params_[\"hidden_layer_sizes\"][0], \n",
    "                rn_score)\n",
    "         )\n",
    "    avg_rn_score += rn_score\n",
    "    \n",
    "avg_rn_score /= 5\n",
    "print(\"Acurácia média da Rede neural: {:.3f}\".format(avg_rn_score))"
   ]
  },
  {
   "cell_type": "markdown",
   "metadata": {},
   "source": [
    "Para o **RF**, teste $\\texttt{maxfeatures = 2, 3, 5, 7}\\; e\\; \\texttt{nestimators = 100, 200, 400 e 800}$."
   ]
  },
  {
   "cell_type": "code",
   "execution_count": 6,
   "metadata": {},
   "outputs": [
    {
     "name": "stdout",
     "output_type": "stream",
     "text": [
      "Teste do RF\n",
      "5 fold:\n",
      "    n_estimators = 100, max_features = 2; Acurácia = 0.883971291866\n",
      "    n_estimators = 100, max_features = 3; Acurácia = 0.895933014354\n",
      "    n_estimators = 200, max_features = 2; Acurácia = 0.901796407186\n",
      "    n_estimators = 100, max_features = 5; Acurácia = 0.882634730539\n",
      "    n_estimators = 400, max_features = 3; Acurácia = 0.891017964072\n",
      "Acurácia média da Random Forest: 0.891\n"
     ]
    }
   ],
   "source": [
    "# Conjunto de hiperparâmetros testados para otimização do RF\n",
    "max_features = [2, 3, 5, 7]\n",
    "n_estimators = [100, 200, 400, 800]\n",
    "\n",
    "print(\"Teste do RF\")\n",
    "\n",
    "print(\"5 fold:\")\n",
    "avg_rf_score = 0\n",
    "for tr_5kf_idx, ts_5kf_idx in zip(tr_5kf_idxs, ts_5kf_idxs):\n",
    "    # Define os subvetores x e y, para treino e teste (5-kfold)\n",
    "    x_5kf_tr, y_5kf_tr = x[tr_5kf_idx], y[tr_5kf_idx] # Treino\n",
    "    x_5kf_ts, y_5kf_ts = x[ts_5kf_idx], y[ts_5kf_idx] # Teste\n",
    "    \n",
    "    # Procura os melhores hiperparâmetros 3 folds (StratifiedKFold)\n",
    "    gscv = GridSearchCV(\n",
    "                RandomForestClassifier(), \n",
    "                {'n_estimators':n_estimators, 'max_features':max_features}\n",
    "           ).fit(x_5kf_tr, y_5kf_tr)\n",
    "    \n",
    "    # Guarda a acurácia da Random Forest para os hiperparâmetros do fold atual\n",
    "    rf_score = gscv.score(x_5kf_ts, y_5kf_ts)\n",
    "    print('    n_estimators = {:d}, max_features = {:d}; Acurácia = {:.12f}'.format(\n",
    "                gscv.best_params_[\"n_estimators\"], \n",
    "                gscv.best_params_[\"max_features\"],\n",
    "                rf_score)\n",
    "         )\n",
    "    avg_rf_score += rf_score\n",
    "    \n",
    "avg_rf_score /= 5\n",
    "print(\"Acurácia média da Random Forest: {:.3f}\".format(avg_rf_score))"
   ]
  },
  {
   "cell_type": "markdown",
   "metadata": {},
   "source": [
    "Para o **GBM** teste para $\\texttt{nÁrvores = 30, 70  e  100}$, com $\\texttt{learningRate = 0.1 e 0.05}$, e $\\texttt{profundidade da árvore = 5}$."
   ]
  },
  {
   "cell_type": "code",
   "execution_count": 7,
   "metadata": {},
   "outputs": [
    {
     "name": "stdout",
     "output_type": "stream",
     "text": [
      "Teste do GBM\n",
      "5 fold:\n",
      "    n_estimators =  70, learning_rate = 0.10; Acurácia = 0.873205741627\n",
      "    n_estimators =  30, learning_rate = 0.10; Acurácia = 0.887559808612\n",
      "    n_estimators = 100, learning_rate = 0.05; Acurácia = 0.900598802395\n",
      "    n_estimators = 100, learning_rate = 0.10; Acurácia = 0.883832335329\n",
      "    n_estimators =  70, learning_rate = 0.05; Acurácia = 0.887425149701\n",
      "Acurácia média da BGM: 0.887\n"
     ]
    }
   ],
   "source": [
    "# Conjunto de hiperparâmetros testados para otimização do GBM\n",
    "n_estimators = [30, 70, 100]\n",
    "learning_rates = [0.1, 0.05]\n",
    "max_depth = [5]\n",
    "\n",
    "print(\"Teste do GBM\")\n",
    "\n",
    "print(\"5 fold:\")\n",
    "avg_gbm_score = 0\n",
    "for tr_5kf_idx, ts_5kf_idx in zip(tr_5kf_idxs, ts_5kf_idxs):\n",
    "    # Define os subvetores x e y, para treino e teste (5-kfold)\n",
    "    x_5kf_tr, y_5kf_tr = x[tr_5kf_idx], y[tr_5kf_idx] # Treino\n",
    "    x_5kf_ts, y_5kf_ts = x[ts_5kf_idx], y[ts_5kf_idx] # Teste\n",
    "    \n",
    "    # Procura os melhores hiperparâmetros 3 folds (StratifiedKFold)\n",
    "    gscv = GridSearchCV(\n",
    "                GradientBoostingClassifier(), {\n",
    "                    'n_estimators':n_estimators, \n",
    "                    'learning_rate':learning_rates, \n",
    "                    'max_depth':max_depth}\n",
    "           ).fit(x_5kf_tr, y_5kf_tr)\n",
    "    \n",
    "    # Guarda a acurácia da Random Forest para os hiperparâmetros do fold atual\n",
    "    gbm_score = gscv.score(x_5kf_ts, y_5kf_ts)\n",
    "    print('    n_estimators = {:3d}, learning_rate = {:.2f}; Acurácia = {:.12f}'.format(\n",
    "                gscv.best_params_[\"n_estimators\"], \n",
    "                gscv.best_params_[\"learning_rate\"], \n",
    "                gbm_score)\n",
    "         )\n",
    "    avg_gbm_score += gbm_score\n",
    "    \n",
    "avg_gbm_score /= 5\n",
    "print(\"Acurácia média da BGM: {:.3f}\".format(avg_gbm_score))"
   ]
  },
  {
   "cell_type": "markdown",
   "metadata": {},
   "source": [
    "Para o algoritmo com maior acurácia, reporte o valor dos hiperparâmetros obtidos para gerar o classificador final."
   ]
  },
  {
   "cell_type": "code",
   "execution_count": 8,
   "metadata": {},
   "outputs": [
    {
     "name": "stdout",
     "output_type": "stream",
     "text": [
      "O melhor classificador foi a Rede Neural com 0.896 de acurácia média.\n",
      "O melhor número de neurônios dentre os disponíveis é 10\n",
      "MLPClassifier(activation='relu', alpha=0.0001, batch_size='auto', beta_1=0.9,\n",
      "       beta_2=0.999, early_stopping=False, epsilon=1e-08,\n",
      "       hidden_layer_sizes=(10,), learning_rate='constant',\n",
      "       learning_rate_init=0.001, max_iter=200, momentum=0.9,\n",
      "       n_iter_no_change=10, nesterovs_momentum=True, power_t=0.5,\n",
      "       random_state=None, shuffle=True, solver='adam', tol=0.0001,\n",
      "       validation_fraction=0.1, verbose=False, warm_start=False)\n"
     ]
    }
   ],
   "source": [
    "print(\"O melhor classificador foi a Rede Neural com {:.3f} de acurácia média.\".format(avg_rn_score))\n",
    "gscv = GridSearchCV(\n",
    "            MLPClassifier(), \n",
    "            {'hidden_layer_sizes':Ns}, \n",
    "            cv=5\n",
    "       ).fit(x, y)\n",
    "print('O melhor número de neurônios dentre os disponíveis é {:2d}' \\\n",
    "          .format(gscv.best_params_[\"hidden_layer_sizes\"][0]))\n",
    "print(gscv.best_estimator_)"
   ]
  },
  {
   "cell_type": "markdown",
   "metadata": {},
   "source": [
    "Vale ressaltar que, com exceção do **kNN**, os outros métodos tiveram um resultado somente 0.004 pior, mas com alguns o tempo de execução é consideravelmente mais rápido que a **rede neural**."
   ]
  }
 ],
 "metadata": {
  "kernelspec": {
   "display_name": "Python 3",
   "language": "python",
   "name": "python3"
  },
  "language_info": {
   "codemirror_mode": {
    "name": "ipython",
    "version": 3
   },
   "file_extension": ".py",
   "mimetype": "text/x-python",
   "name": "python",
   "nbconvert_exporter": "python",
   "pygments_lexer": "ipython3",
   "version": "3.6.7"
  }
 },
 "nbformat": 4,
 "nbformat_minor": 2
}
