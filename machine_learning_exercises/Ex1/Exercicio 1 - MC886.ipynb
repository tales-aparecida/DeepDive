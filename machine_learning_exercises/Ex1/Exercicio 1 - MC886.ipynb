{
 "cells": [
  {
   "cell_type": "markdown",
   "metadata": {},
   "source": [
    "<b>177312 - Tales Lelo da Aparecida</b>\n",
    "\n",
    "Ajustaremos uma função cúbica (f(x) = ax^3 + bx^2 + cx + d) aos dados, minimizando o erro quadrático, assumindo os valores:"
   ]
  },
  {
   "cell_type": "code",
   "execution_count": 1,
   "metadata": {},
   "outputs": [],
   "source": [
    "%matplotlib inline\n",
    "\n",
    "import matplotlib\n",
    "import numpy as np\n",
    "import matplotlib.pyplot as plt\n",
    "\n",
    "x = [-5.0, -4.0, -3.0, -2.0, -1.0, 0.0, 1.0, 2.0, 3.0, 4.0, 5.0]\n",
    "y = [-53.9, -28.5, -20.7, -3.6, -9.8, 5.0, 4.2, 5.1, 11.4, 27.4, 44.0]\n",
    "\n",
    "def f(x,a,b,c,d):\n",
    "    return a*x**3 + b*x**2 + c*x + d\n",
    "\n",
    "# Função padrão para plotar a função encontrada e os pontos originais\n",
    "def plotar(a,b,c,d):\n",
    "    t1 = np.arange(-6.0, 6.0, 0.1) \n",
    "    plt.figure(figsize=[7,3])\n",
    "    plt.axis([-6, 6, -60, 50])\n",
    "    plt.grid(True)\n",
    "    pp = plt.plot(x,y,'ro') # Plota os pontos conhecidos passados\n",
    "    pf = plt.plot(t1,f(t1,a,b,c,d)) # Plota a função com os coeficientes calculados\n",
    "    "
   ]
  },
  {
   "cell_type": "markdown",
   "metadata": {},
   "source": [
    "### Implemente uma decida do gradiente (escreva explicitamente o código para a função que computa o gradiente). Use um learning rate the *1.0e-5*, inicie do ponto *a=b=c=d=0*, e rode *50* iterações.  Qual a solução encontrada? Qual o erro na solução? Plote a função com os valores solução em conjunto com os dados."
   ]
  },
  {
   "cell_type": "code",
   "execution_count": 2,
   "metadata": {
    "scrolled": true
   },
   "outputs": [
    {
     "name": "stdout",
     "output_type": "stream",
     "text": [
      "Solução: f(x) = +0.40582178*x^3 -0.15346867*x^2 +0.05946159*x -0.00842238\n",
      "Soma dos Erros Quadrados: 224.107804\n"
     ]
    },
    {
     "data": {
      "image/png": "[encoded data removed]",
      "text/plain": [
       "<Figure size 504x216 with 1 Axes>"
      ]
     },
     "metadata": {
      "needs_background": "light"
     },
     "output_type": "display_data"
    }
   ],
   "source": [
    "# Função a ser minimizada\n",
    "def sqrSum(v):\n",
    "    a,b,c,d = v[0],v[1],v[2],v[3]\n",
    "    total = 0\n",
    "    for xi,yi in zip(x,y):\n",
    "        total += (yi - f(xi,a,b,c,d))**2\n",
    "    return total\n",
    "\n",
    "# Gradiente da Função \n",
    "def grad(v):\n",
    "    a,b,c,d = v[0],v[1],v[2],v[3]\n",
    "    da,db,dc,dd = 0,0,0,0\n",
    "    for xi,yi in zip(x,y):\n",
    "        difXY = (f(xi,a,b,c,d) - yi)\n",
    "        da += 2 * difXY * xi**3 #d/da (sqrSum)\n",
    "        db += 2 * difXY * xi**2 #d/db (sqrSum)\n",
    "        dc += 2 * difXY * xi**1 #d/dc (sqrSum)\n",
    "        dd += 2 * difXY         #d/dd (sqrSum)\n",
    "    return da,db,dc,dd\n",
    "\n",
    "lr = 1e-5\n",
    "def gradDesc(a,b,c,d):\n",
    "    for i in range(50):\n",
    "        da,db,dc,dd = grad([a,b,c,d])\n",
    "        a -= lr*da\n",
    "        b -= lr*db\n",
    "        c -= lr*dc\n",
    "        d -= lr*dd\n",
    "    return a,b,c,d\n",
    "\n",
    "a,b,c,d = gradDesc(0,0,0,0) # Cálculo dos coeficientes\n",
    "\n",
    "print('Solução: f(x) = {:+.8f}*x^3 {:+.8f}*x^2 {:+.8f}*x {:+.8f}'.format(a, b, c, d))\n",
    "print('Soma dos Erros Quadrados: {:f}'.format(sqrSum([a,b,c,d])))\n",
    "\n",
    "plotar(a,b,c,d)"
   ]
  },
  {
   "cell_type": "markdown",
   "metadata": {},
   "source": [
    "### Use a descida do gradiente com learning rate de *1.0e-4*. O que aconteceu?"
   ]
  },
  {
   "cell_type": "code",
   "execution_count": 4,
   "metadata": {},
   "outputs": [
    {
     "name": "stdout",
     "output_type": "stream",
     "text": [
      "Solução: f(x) = -3.55918263E+42*x^3 +8.03113601E+24*x^2 -1.69916825E+41*x -2.78549698E+23\n",
      "Soma dos Erros Quadrados: 5.22130488E+89\n"
     ]
    },
    {
     "data": {
      "image/png": "[encoded data removed]",
      "text/plain": [
       "<Figure size 504x216 with 1 Axes>"
      ]
     },
     "metadata": {
      "needs_background": "light"
     },
     "output_type": "display_data"
    }
   ],
   "source": [
    "lr = 1.0e-4\n",
    "\n",
    "a,b,c,d = gradDesc(0,0,0,0) # Calculo dos coeficientes\n",
    "\n",
    "print('Solução: f(x) = {:+.8E}*x^3 {:+.8E}*x^2 {:+.8E}*x {:+.8E}'.format(a, b, c, d))\n",
    "print('Soma dos Erros Quadrados: {:.8E}'.format(sqrSum([a,b,c,d])))\n",
    "\n",
    "plotar(a,b,c,d)"
   ]
  },
  {
   "cell_type": "markdown",
   "metadata": {},
   "source": [
    "Como pode ser percebido pelo gráfico e pelos valores encontrados para erro e para o modelo, a taxa 1.0e-4 leva ao crescimento infinito dos coeficientes, claramente fugindo ao mínimo procurado, o que indica um *learning rate* alto demais."
   ]
  },
  {
   "cell_type": "markdown",
   "metadata": {},
   "source": [
    "### Use o método de BFGS do scipy.optimize.minimize. Use o BFGS sem jacobiano (o método vai computar o Jacobiano usando diferenças finitas) De novo, imprima a solução, o erro e plote a função encontrada e os dados originais. Quantas iterações foram precisas?"
   ]
  },
  {
   "cell_type": "code",
   "execution_count": 6,
   "metadata": {},
   "outputs": [
    {
     "name": "stdout",
     "output_type": "stream",
     "text": [
      "Solução: f(x) = +0.29123927*x^3 -0.17995339*x^2 +2.45957734*x +0.03589747\n",
      "Soma dos Erros Quadrados: 127.565070\n",
      "Número de iterações: 7\n"
     ]
    },
    {
     "data": {
      "image/png": "[encoded data removed]",
      "text/plain": [
       "<Figure size 504x216 with 1 Axes>"
      ]
     },
     "metadata": {
      "needs_background": "light"
     },
     "output_type": "display_data"
    }
   ],
   "source": [
    "from scipy.optimize import minimize\n",
    "\n",
    "minRes = minimize(sqrSum, [0,0,0,0], method='BFGS')\n",
    "\n",
    "a,b,c,d = minRes['x']\n",
    "\n",
    "print('Solução: f(x) = {:+.8f}*x^3 {:+.8f}*x^2 {:+.8f}*x {:+.8f}'.format(a, b, c, d))\n",
    "print('Soma dos Erros Quadrados: {:f}'.format(sqrSum([a,b,c,d])))\n",
    "print('Número de iterações: {:d}'.format(minRes['nit']))\n",
    "\n",
    "plotar(a,b,c,d)"
   ]
  },
  {
   "cell_type": "markdown",
   "metadata": {},
   "source": [
    "### Use o método de BFGS do scipy.optimize.minimize. Use o Jacobiano. Houve diferença entre a solução anterior? Mesmo número de chamadas para a função?"
   ]
  },
  {
   "cell_type": "code",
   "execution_count": 7,
   "metadata": {},
   "outputs": [
    {
     "name": "stdout",
     "output_type": "stream",
     "text": [
      "Solução: f(x) = +0.29123932*x^3 -0.17995338*x^2 +2.45957653*x +0.03589744\n",
      "Soma dos Erros Quadrados: 127.565070\n",
      "Número de iterações: 7\n"
     ]
    },
    {
     "data": {
      "image/png": "[encoded data removed]",
      "text/plain": [
       "<Figure size 504x216 with 1 Axes>"
      ]
     },
     "metadata": {
      "needs_background": "light"
     },
     "output_type": "display_data"
    }
   ],
   "source": [
    "# Casca para o gradiente retornar o tipo esperado pelo TensorFlow\n",
    "def gradArray(v):\n",
    "    return np.asarray(grad(v))\n",
    "\n",
    "minRes = minimize(sqrSum, [0,0,0,0], method='BFGS',jac=gradArray)\n",
    "\n",
    "a,b,c,d = minRes['x']\n",
    "\n",
    "print('Solução: f(x) = {:+.8f}*x^3 {:+.8f}*x^2 {:+.8f}*x {:+.8f}'.format(a, b, c, d))\n",
    "print('Soma dos Erros Quadrados: {:f}'.format(sqrSum([a,b,c,d])))\n",
    "print('Número de iterações: {:d}'.format(minRes['nit']))\n",
    "\n",
    "plotar(a,b,c,d)"
   ]
  },
  {
   "cell_type": "markdown",
   "metadata": {},
   "source": [
    "### Use o método Nelder Mead do scipy.optimize.minimize. Imprima e plote. Quantas interações?"
   ]
  },
  {
   "cell_type": "code",
   "execution_count": 8,
   "metadata": {},
   "outputs": [
    {
     "name": "stdout",
     "output_type": "stream",
     "text": [
      "Solução: f(x) = +0.29124112*x^3 -0.17995509*x^2 +2.45954951*x +0.03587784\n",
      "Soma dos Erros Quadrados: 127.565070\n",
      "Número de iterações: 360\n"
     ]
    },
    {
     "data": {
      "image/png": "[encoded data removed]",
      "text/plain": [
       "<Figure size 504x216 with 1 Axes>"
      ]
     },
     "metadata": {
      "needs_background": "light"
     },
     "output_type": "display_data"
    }
   ],
   "source": [
    "minRes = minimize(sqrSum, [0,0,0,0], method='Nelder-Mead')\n",
    "\n",
    "a,b,c,d = minRes['x']\n",
    "\n",
    "print('Solução: f(x) = {:+.8f}*x^3 {:+.8f}*x^2 {:+.8f}*x {:+.8f}'.format(a, b, c, d))\n",
    "print('Soma dos Erros Quadrados: {:f}'.format(sqrSum([a,b,c,d])))\n",
    "print('Número de iterações: {:d}'.format(minRes['nit']))\n",
    "\n",
    "plotar(a,b,c,d)"
   ]
  },
  {
   "cell_type": "markdown",
   "metadata": {},
   "source": [
    "### Implemente uma solução usando decida do gradiente usando o Tensorflow. Use o otimizador AdamOptimizer com learning rate de 0.01. Rode 200 iterações. Plote a solução. Diga qual otimização usou, SGD ou uma solução batch."
   ]
  },
  {
   "cell_type": "code",
   "execution_count": null,
   "metadata": {},
   "outputs": [],
   "source": [
    "# Obs.: Este trecho de código é inspirado por http://learningtensorflow.com/lesson7/\n",
    "import tensorflow as tf\n",
    "import numpy as np\n",
    "\n",
    "lr = 0.01\n",
    "# x_ e y_ são placeholders para nossa solução\n",
    "x_ = tf.placeholder(\"float\")\n",
    "y_ = tf.placeholder(\"float\")\n",
    "\n",
    "# w será a variável que guarda os valores procurados. Ela é inicializada com um vetor nulo.\n",
    "# w[0] corresponde ao \"a\" na equação, w[1] ao \"b\", w[2] ao \"c\" e, por fim, w[3] ao \"d\"\n",
    "w = tf.Variable([0.0,0.0,0.0,0.0], name=\"w\")\n",
    "# Definindo o modelo com nosso polinômio: a*x^3 + b*x^2 + c*x + d\n",
    "y_model = tf.multiply(tf.pow(x_,3), w[0]) + tf.multiply(tf.square(x_), w[1]) + tf.multiply(x, w[2]) + w[3]\n",
    "\n",
    "# O erro ainda é a soma dos quadrados das diferenças\n",
    "error = tf.square(y_ - y_model)\n",
    "# O AdamOptimizer fará o calculo, propriamente dito\n",
    "train_op = tf.train.AdamOptimizer(lr).minimize(error)\n",
    "\n",
    "# Inicializador padrão do TensorFlow\n",
    "model = tf.global_variables_initializer()\n",
    "\n",
    "with tf.Session() as session:\n",
    "    session.run(model)\n",
    "    for i in range(200):\n",
    "        session.run(train_op, feed_dict={x_: x, y_: y})\n",
    "\n",
    "    w_value = session.run(w)\n",
    "    \n",
    "a,b,c,d = w_value[0],w_value[1],w_value[2],w_value[3]\n",
    "print('Solução: f(x) = {:+.8f}*x^3 {:+.8f}*x^2 {:+.8f}*x {:+.8f}'.format(a,b,c,d))\n",
    "print('Soma dos Erros Quadrados: {:f}'.format(sqrSum(w_value)))\n",
    "\n",
    "plotar(a,b,c,d)"
   ]
  },
  {
   "cell_type": "markdown",
   "metadata": {},
   "source": [
    "Como pode ser notado, foi utilizada uma abordagem com Batch dos dados, isto é, **todos** dados (x,y) são levados em conta para cada passo do método."
   ]
  }
 ],
 "metadata": {
  "kernelspec": {
   "display_name": "Python 3",
   "language": "python",
   "name": "python3"
  },
  "language_info": {
   "codemirror_mode": {
    "name": "ipython",
    "version": 3
   },
   "file_extension": ".py",
   "mimetype": "text/x-python",
   "name": "python",
   "nbconvert_exporter": "python",
   "pygments_lexer": "ipython3",
   "version": "3.6.7"
  }
 },
 "nbformat": 4,
 "nbformat_minor": 2
}
