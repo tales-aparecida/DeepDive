{
 "cells": [
  {
   "cell_type": "markdown",
   "metadata": {},
   "source": [
    "**177312 - Tales Lelo da Aparecida**"
   ]
  },
  {
   "cell_type": "markdown",
   "metadata": {},
   "source": [
    "1\\. Pre-processamento\n",
    "  + Com a função **get_dummies** converta a primeira coluna de dados categóricos para numéricos.\n",
    "  + Transforme a última coluna em um dado categórico, onde a classe de saída será $1$ se for maior que $13$, caso contrário $0$, depois remova-a.\n",
    "  + Separe os primeiros $3133$ dados como treino e use os restantes como teste.\n",
    "  "
   ]
  },
  {
   "cell_type": "code",
   "execution_count": 3,
   "metadata": {},
   "outputs": [
    {
     "name": "stdout",
     "output_type": "stream",
     "text": [
      "Primeiras 5 linhas:\n",
      "       V1     V2     V3      V4      V5      V6     V7  F  I  M\n",
      "0  0.455  0.365  0.095  0.5140  0.2245  0.1010  0.150  0  0  1\n",
      "1  0.350  0.265  0.090  0.2255  0.0995  0.0485  0.070  0  0  1\n",
      "2  0.530  0.420  0.135  0.6770  0.2565  0.1415  0.210  1  0  0\n",
      "3  0.440  0.365  0.125  0.5160  0.2155  0.1140  0.155  0  0  1\n",
      "4  0.330  0.255  0.080  0.2050  0.0895  0.0395  0.055  0  1  0\n"
     ]
    },
    {
     "name": "stderr",
     "output_type": "stream",
     "text": [
      "/home/tales/virtualenvs/ML/lib/python3.6/site-packages/ipykernel_launcher.py:20: FutureWarning: Method .as_matrix will be removed in a future version. Use .values instead.\n",
      "/home/tales/virtualenvs/ML/lib/python3.6/site-packages/ipykernel_launcher.py:21: FutureWarning: Method .as_matrix will be removed in a future version. Use .values instead.\n"
     ]
    }
   ],
   "source": [
    "import pandas as pd\n",
    "from sklearn.linear_model  import LogisticRegression\n",
    "from sklearn.pipeline      import Pipeline\n",
    "from sklearn.preprocessing import StandardScaler\n",
    "from sklearn.decomposition import PCA\n",
    "from sklearn.preprocessing import Imputer\n",
    "\n",
    "# Carrega um DataFrame com os dados do arquivo\n",
    "df = pd.io.parsers.read_csv('abalone.csv', ',', header=None )\n",
    "#                                                                       .\n",
    "# Converte a 1ª coluna para um dado numérico\n",
    "df = pd.get_dummies(df, columns=[0])\n",
    "\n",
    "# Cria um DataFrame com a versão categórica (1:x>13, 0:x<=13) da coluna 8\n",
    "maiorQueOito = df.apply(lambda row: int(row[8]>13), 1)\n",
    "# Remove-a\n",
    "del df[8]\n",
    "\n",
    "# Separando dados para treino e teste\n",
    "treino, y_treino = df[:3133].as_matrix(), maiorQueOito[:3133].as_matrix()\n",
    "teste, y_teste = df[3133:].as_matrix(), maiorQueOito[3133:].as_matrix()\n",
    "\n",
    "# Renomeia as colunas para facilitar o acompanhamento\n",
    "df.columns = ['V1', 'V2', 'V3', 'V4', 'V5', 'V6', 'V7', 'F', 'I', 'M']\n",
    "\n",
    "# Mostra as primeiras linhas de nossos dados, para um preview de como estão até então\n",
    "print(\"Primeiras 5 linhas:\\n\", df.head())"
   ]
  },
  {
   "cell_type": "markdown",
   "metadata": {},
   "source": [
    "2\\. Regressão logística com $C=10^6$\n",
    "  + Faça a regressão logística dos dados transformados, com um *C alto* (sem regularização).\n",
    "  + **Imprima a acurácia** do classificador nos dados de teste com 3 dígitos significativos.\n",
    "  + Rode o **LogisticRegression** com **random_state=1** para garantir que de o mesmo resultado toda vez que você rodar."
   ]
  },
  {
   "cell_type": "code",
   "execution_count": 4,
   "metadata": {},
   "outputs": [
    {
     "name": "stdout",
     "output_type": "stream",
     "text": [
      "\n",
      "Acurácia: 0.897\n"
     ]
    },
    {
     "name": "stderr",
     "output_type": "stream",
     "text": [
      "/home/tales/virtualenvs/ML/lib/python3.6/site-packages/sklearn/linear_model/logistic.py:433: FutureWarning: Default solver will be changed to 'lbfgs' in 0.22. Specify a solver to silence this warning.\n",
      "  FutureWarning)\n"
     ]
    }
   ],
   "source": [
    "print(\"\\nAcurácia: %.3f\" \n",
    "    %LogisticRegression(C=10**6, random_state=1).fit(treino, y_treino).score(teste, y_teste))"
   ]
  },
  {
   "cell_type": "markdown",
   "metadata": {},
   "source": [
    "3\\. Regressão logística com regularização ($C=1$).\n",
    "  + Imprima com 3 dígitos a acurácia, e use **random_state=1**."
   ]
  },
  {
   "cell_type": "code",
   "execution_count": 5,
   "metadata": {},
   "outputs": [
    {
     "name": "stdout",
     "output_type": "stream",
     "text": [
      "\n",
      "Acurácia: 0.892\n"
     ]
    },
    {
     "name": "stderr",
     "output_type": "stream",
     "text": [
      "/home/tales/virtualenvs/ML/lib/python3.6/site-packages/sklearn/linear_model/logistic.py:433: FutureWarning: Default solver will be changed to 'lbfgs' in 0.22. Specify a solver to silence this warning.\n",
      "  FutureWarning)\n"
     ]
    }
   ],
   "source": [
    "print(\"\\nAcurácia: %.3f\" \n",
    "    %LogisticRegression(C=1, random_state=1).fit(treino, y_treino).score(teste, y_teste))"
   ]
  },
  {
   "cell_type": "markdown",
   "metadata": {},
   "source": [
    "4\\. Regressão logística sem regularização e com estandardização dos dados.\n",
    "  + Use $C=10^6$ mas transforme os dados antes de aplicar a regressão logistica."
   ]
  },
  {
   "cell_type": "code",
   "execution_count": 6,
   "metadata": {},
   "outputs": [
    {
     "name": "stdout",
     "output_type": "stream",
     "text": [
      "\n",
      "Acurácia: 0.897\n"
     ]
    },
    {
     "name": "stderr",
     "output_type": "stream",
     "text": [
      "/home/tales/virtualenvs/ML/lib/python3.6/site-packages/sklearn/linear_model/logistic.py:433: FutureWarning: Default solver will be changed to 'lbfgs' in 0.22. Specify a solver to silence this warning.\n",
      "  FutureWarning)\n"
     ]
    }
   ],
   "source": [
    "print(\"\\nAcurácia: %.3f\" \n",
    "    %Pipeline([\n",
    "        ('stdScale', StandardScaler()), \n",
    "        ('logistic', LogisticRegression(C=10**6, random_state=1))\n",
    "    ]).fit(treino, y_treino).score(teste, y_teste))"
   ]
  },
  {
   "cell_type": "markdown",
   "metadata": {},
   "source": [
    "5\\. Aplique um PCA nos dados, de forma que pelo menos 90% da variância dos dados seja preservada."
   ]
  },
  {
   "cell_type": "code",
   "execution_count": 7,
   "metadata": {},
   "outputs": [],
   "source": [
    "# Prepara o PCA que será adicionado no Pipeline, que aplicará as transformações sequencialmente\n",
    "pca = PCA(n_components=0.9, random_state=1) "
   ]
  },
  {
   "cell_type": "markdown",
   "metadata": {},
   "source": [
    "6\\. Rode a regressão logística sem regularização nos dados do PCA"
   ]
  },
  {
   "cell_type": "code",
   "execution_count": 8,
   "metadata": {},
   "outputs": [
    {
     "name": "stdout",
     "output_type": "stream",
     "text": [
      "\n",
      "Acurácia: 0.884\n"
     ]
    },
    {
     "name": "stderr",
     "output_type": "stream",
     "text": [
      "/home/tales/virtualenvs/ML/lib/python3.6/site-packages/sklearn/linear_model/logistic.py:433: FutureWarning: Default solver will be changed to 'lbfgs' in 0.22. Specify a solver to silence this warning.\n",
      "  FutureWarning)\n"
     ]
    }
   ],
   "source": [
    "print(\"\\nAcurácia: %.3f\" \n",
    "    %Pipeline([\n",
    "        ('pca', pca), \n",
    "        ('logistic', LogisticRegression(C=10**6, random_state=1))\n",
    "    ]).fit(treino, y_treino).score(teste, y_teste))"
   ]
  },
  {
   "cell_type": "markdown",
   "metadata": {},
   "source": [
    "7\\. Rode a regressão logística com regularização ($C=1$) nos dados do PCA"
   ]
  },
  {
   "cell_type": "code",
   "execution_count": 9,
   "metadata": {},
   "outputs": [
    {
     "name": "stdout",
     "output_type": "stream",
     "text": [
      "\n",
      "Acurácia: 0.884\n"
     ]
    },
    {
     "name": "stderr",
     "output_type": "stream",
     "text": [
      "/home/tales/virtualenvs/ML/lib/python3.6/site-packages/sklearn/linear_model/logistic.py:433: FutureWarning: Default solver will be changed to 'lbfgs' in 0.22. Specify a solver to silence this warning.\n",
      "  FutureWarning)\n"
     ]
    }
   ],
   "source": [
    "print(\"\\nAcurácia: %.3f\" \n",
    "    %Pipeline([\n",
    "        ('pca', pca), \n",
    "        ('logistic', LogisticRegression(C=10**6, random_state=1))\n",
    "    ]).fit(treino, y_treino).score(teste, y_teste))"
   ]
  },
  {
   "cell_type": "markdown",
   "metadata": {},
   "source": [
    "8\\. Leia o arquivo abalone-missing.csv com dados faltantes na 2ª à penúltima coluna. \n",
    "  + Faça o preprocessamento descrito em 1. \n",
    "  + Impute pela média os valores faltantes.\n",
    "  + Rode a regressão sem regularização, sem PCA e sem estandardização."
   ]
  },
  {
   "cell_type": "code",
   "execution_count": 10,
   "metadata": {},
   "outputs": [
    {
     "name": "stdout",
     "output_type": "stream",
     "text": [
      "Primeiras 5 linhas:\n",
      "       V1     V2     V3      V4      V5      V6     V7  F  I  M\n",
      "0  0.455  0.365  0.095  0.5140  0.2245  0.1010  0.150  0  0  1\n",
      "1  0.350  0.265  0.090  0.2255  0.0995  0.0485  0.070  0  0  1\n",
      "2  0.530  0.420  0.135  0.6770  0.2565  0.1415  0.210  1  0  0\n",
      "3  0.440  0.365  0.125  0.5160  0.2155  0.1140  0.155  0  0  1\n",
      "4  0.330  0.255  0.080  0.2050  0.0895  0.0395  0.055  0  1  0\n",
      "\n",
      "Acurácia: 0.887\n"
     ]
    },
    {
     "name": "stderr",
     "output_type": "stream",
     "text": [
      "/home/tales/virtualenvs/ML/lib/python3.6/site-packages/ipykernel_launcher.py:13: FutureWarning: Method .as_matrix will be removed in a future version. Use .values instead.\n",
      "  del sys.path[0]\n",
      "/home/tales/virtualenvs/ML/lib/python3.6/site-packages/ipykernel_launcher.py:14: FutureWarning: Method .as_matrix will be removed in a future version. Use .values instead.\n",
      "  \n",
      "/home/tales/virtualenvs/ML/lib/python3.6/site-packages/sklearn/utils/deprecation.py:58: DeprecationWarning: Class Imputer is deprecated; Imputer was deprecated in version 0.20 and will be removed in 0.22. Import impute.SimpleImputer from sklearn instead.\n",
      "  warnings.warn(msg, category=DeprecationWarning)\n",
      "/home/tales/virtualenvs/ML/lib/python3.6/site-packages/sklearn/linear_model/logistic.py:433: FutureWarning: Default solver will be changed to 'lbfgs' in 0.22. Specify a solver to silence this warning.\n",
      "  FutureWarning)\n"
     ]
    }
   ],
   "source": [
    "# Carrega um DataFrame com os dados do arquivo\n",
    "df = pd.io.parsers.read_csv('abalone-missing.csv', ',', header=None )\n",
    "\n",
    "# Utiliza a função get_dummies para converter a primeira coluna para um dado numérico\n",
    "df = pd.get_dummies(df, columns=[0])\n",
    "\n",
    "# Cria um DataFrame com a versão categórica (1:x>13, 0:x<=13) da coluna 8\n",
    "maiorQueOito = df.apply(lambda row: int(row[8]>13), 1)\n",
    "# Remove-a\n",
    "del df[8]\n",
    "\n",
    "# Separando dados para treino e teste\n",
    "treino, y_treino = df[:3133].as_matrix(), maiorQueOito[:3133].as_matrix()\n",
    "teste, y_teste = df[3133:].as_matrix(), maiorQueOito[3133:].as_matrix()\n",
    "\n",
    "# Renomeia as colunas para facilitar o acompanhamento\n",
    "df.columns = ['V1', 'V2', 'V3', 'V4', 'V5', 'V6', 'V7', 'F', 'I', 'M']\n",
    "\n",
    "# Mostra as primeiras linhas de nossos dados, para um preview de como estão até então\n",
    "print(\"Primeiras 5 linhas:\\n\", df.head())\n",
    "\n",
    "# Imputa os valores faltantes pela média e realiza a regressão logística\n",
    "print(\"\\nAcurácia: %.3f\" \n",
    "    %Pipeline([\n",
    "        ('imputer', Imputer()), \n",
    "        ('logistic', LogisticRegression(C=10**6, random_state=1))\n",
    "    ]).fit(treino, y_treino).score(teste, y_teste))"
   ]
  }
 ],
 "metadata": {
  "kernelspec": {
   "display_name": "Python 3",
   "language": "python",
   "name": "python3"
  },
  "language_info": {
   "codemirror_mode": {
    "name": "ipython",
    "version": 3
   },
   "file_extension": ".py",
   "mimetype": "text/x-python",
   "name": "python",
   "nbconvert_exporter": "python",
   "pygments_lexer": "ipython3",
   "version": "3.6.7"
  }
 },
 "nbformat": 4,
 "nbformat_minor": 2
}
